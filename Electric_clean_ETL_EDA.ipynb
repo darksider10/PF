{
 "cells": [
  {
   "cell_type": "code",
   "execution_count": 1,
   "metadata": {},
   "outputs": [],
   "source": [
    "import pandas as pd\n",
    "import matplotlib.pyplot as plt\n",
    "import seaborn as sns\n",
    "import numpy as np"
   ]
  },
  {
   "cell_type": "code",
   "execution_count": 2,
   "metadata": {},
   "outputs": [
    {
     "data": {
      "text/html": [
       "<div>\n",
       "<style scoped>\n",
       "    .dataframe tbody tr th:only-of-type {\n",
       "        vertical-align: middle;\n",
       "    }\n",
       "\n",
       "    .dataframe tbody tr th {\n",
       "        vertical-align: top;\n",
       "    }\n",
       "\n",
       "    .dataframe thead th {\n",
       "        text-align: right;\n",
       "    }\n",
       "</style>\n",
       "<table border=\"1\" class=\"dataframe\">\n",
       "  <thead>\n",
       "    <tr style=\"text-align: right;\">\n",
       "      <th></th>\n",
       "      <th>Brand</th>\n",
       "      <th>Model</th>\n",
       "      <th>AccelSec</th>\n",
       "      <th>TopSpeed_KmH</th>\n",
       "      <th>Range_Km</th>\n",
       "      <th>Efficiency_WhKm</th>\n",
       "      <th>FastCharge_KmH</th>\n",
       "      <th>RapidCharge</th>\n",
       "      <th>PowerTrain</th>\n",
       "      <th>PlugType</th>\n",
       "      <th>BodyStyle</th>\n",
       "      <th>Segment</th>\n",
       "      <th>Seats</th>\n",
       "      <th>PriceEuro</th>\n",
       "    </tr>\n",
       "  </thead>\n",
       "  <tbody>\n",
       "    <tr>\n",
       "      <th>0</th>\n",
       "      <td>Tesla</td>\n",
       "      <td>Model 3 Long Range Dual Motor</td>\n",
       "      <td>4.6</td>\n",
       "      <td>233</td>\n",
       "      <td>450</td>\n",
       "      <td>161</td>\n",
       "      <td>940</td>\n",
       "      <td>Yes</td>\n",
       "      <td>AWD</td>\n",
       "      <td>Type 2 CCS</td>\n",
       "      <td>Sedan</td>\n",
       "      <td>D</td>\n",
       "      <td>5</td>\n",
       "      <td>55480</td>\n",
       "    </tr>\n",
       "    <tr>\n",
       "      <th>1</th>\n",
       "      <td>Volkswagen</td>\n",
       "      <td>ID.3 Pure</td>\n",
       "      <td>10.0</td>\n",
       "      <td>160</td>\n",
       "      <td>270</td>\n",
       "      <td>167</td>\n",
       "      <td>250</td>\n",
       "      <td>Yes</td>\n",
       "      <td>RWD</td>\n",
       "      <td>Type 2 CCS</td>\n",
       "      <td>Hatchback</td>\n",
       "      <td>C</td>\n",
       "      <td>5</td>\n",
       "      <td>30000</td>\n",
       "    </tr>\n",
       "    <tr>\n",
       "      <th>2</th>\n",
       "      <td>Polestar</td>\n",
       "      <td>2</td>\n",
       "      <td>4.7</td>\n",
       "      <td>210</td>\n",
       "      <td>400</td>\n",
       "      <td>181</td>\n",
       "      <td>620</td>\n",
       "      <td>Yes</td>\n",
       "      <td>AWD</td>\n",
       "      <td>Type 2 CCS</td>\n",
       "      <td>Liftback</td>\n",
       "      <td>D</td>\n",
       "      <td>5</td>\n",
       "      <td>56440</td>\n",
       "    </tr>\n",
       "    <tr>\n",
       "      <th>3</th>\n",
       "      <td>BMW</td>\n",
       "      <td>iX3</td>\n",
       "      <td>6.8</td>\n",
       "      <td>180</td>\n",
       "      <td>360</td>\n",
       "      <td>206</td>\n",
       "      <td>560</td>\n",
       "      <td>Yes</td>\n",
       "      <td>RWD</td>\n",
       "      <td>Type 2 CCS</td>\n",
       "      <td>SUV</td>\n",
       "      <td>D</td>\n",
       "      <td>5</td>\n",
       "      <td>68040</td>\n",
       "    </tr>\n",
       "    <tr>\n",
       "      <th>4</th>\n",
       "      <td>Honda</td>\n",
       "      <td>e</td>\n",
       "      <td>9.5</td>\n",
       "      <td>145</td>\n",
       "      <td>170</td>\n",
       "      <td>168</td>\n",
       "      <td>190</td>\n",
       "      <td>Yes</td>\n",
       "      <td>RWD</td>\n",
       "      <td>Type 2 CCS</td>\n",
       "      <td>Hatchback</td>\n",
       "      <td>B</td>\n",
       "      <td>4</td>\n",
       "      <td>32997</td>\n",
       "    </tr>\n",
       "  </tbody>\n",
       "</table>\n",
       "</div>"
      ],
      "text/plain": [
       "         Brand                          Model  AccelSec  TopSpeed_KmH  \\\n",
       "0       Tesla   Model 3 Long Range Dual Motor       4.6           233   \n",
       "1  Volkswagen                       ID.3 Pure      10.0           160   \n",
       "2    Polestar                               2       4.7           210   \n",
       "3         BMW                            iX3        6.8           180   \n",
       "4       Honda                              e        9.5           145   \n",
       "\n",
       "   Range_Km  Efficiency_WhKm FastCharge_KmH RapidCharge PowerTrain  \\\n",
       "0       450              161            940         Yes        AWD   \n",
       "1       270              167            250         Yes        RWD   \n",
       "2       400              181            620         Yes        AWD   \n",
       "3       360              206            560         Yes        RWD   \n",
       "4       170              168            190         Yes        RWD   \n",
       "\n",
       "     PlugType  BodyStyle Segment  Seats  PriceEuro  \n",
       "0  Type 2 CCS      Sedan       D      5      55480  \n",
       "1  Type 2 CCS  Hatchback       C      5      30000  \n",
       "2  Type 2 CCS   Liftback       D      5      56440  \n",
       "3  Type 2 CCS        SUV       D      5      68040  \n",
       "4  Type 2 CCS  Hatchback       B      4      32997  "
      ]
     },
     "execution_count": 2,
     "metadata": {},
     "output_type": "execute_result"
    }
   ],
   "source": [
    "ruta_archivo1 = \"Datasets/ElectricCarData_Clean.csv\"\n",
    "df = pd.read_csv(ruta_archivo1)\n",
    "\n",
    "df.head()"
   ]
  },
  {
   "cell_type": "code",
   "execution_count": 3,
   "metadata": {},
   "outputs": [
    {
     "name": "stdout",
     "output_type": "stream",
     "text": [
      "<class 'pandas.core.frame.DataFrame'>\n",
      "RangeIndex: 103 entries, 0 to 102\n",
      "Data columns (total 14 columns):\n",
      " #   Column           Non-Null Count  Dtype  \n",
      "---  ------           --------------  -----  \n",
      " 0   Brand            103 non-null    object \n",
      " 1   Model            103 non-null    object \n",
      " 2   AccelSec         103 non-null    float64\n",
      " 3   TopSpeed_KmH     103 non-null    int64  \n",
      " 4   Range_Km         103 non-null    int64  \n",
      " 5   Efficiency_WhKm  103 non-null    int64  \n",
      " 6   FastCharge_KmH   103 non-null    object \n",
      " 7   RapidCharge      103 non-null    object \n",
      " 8   PowerTrain       103 non-null    object \n",
      " 9   PlugType         103 non-null    object \n",
      " 10  BodyStyle        103 non-null    object \n",
      " 11  Segment          103 non-null    object \n",
      " 12  Seats            103 non-null    int64  \n",
      " 13  PriceEuro        103 non-null    int64  \n",
      "dtypes: float64(1), int64(5), object(8)\n",
      "memory usage: 11.4+ KB\n"
     ]
    }
   ],
   "source": [
    "df.info()"
   ]
  },
  {
   "cell_type": "markdown",
   "metadata": {},
   "source": [
    "# ETL"
   ]
  },
  {
   "cell_type": "code",
   "execution_count": 4,
   "metadata": {},
   "outputs": [
    {
     "name": "stdout",
     "output_type": "stream",
     "text": [
      "Brand              0\n",
      "Model              0\n",
      "AccelSec           0\n",
      "TopSpeed_KmH       0\n",
      "Range_Km           0\n",
      "Efficiency_WhKm    0\n",
      "FastCharge_KmH     0\n",
      "RapidCharge        0\n",
      "PowerTrain         0\n",
      "PlugType           0\n",
      "BodyStyle          0\n",
      "Segment            0\n",
      "Seats              0\n",
      "PriceEuro          0\n",
      "dtype: int64\n"
     ]
    }
   ],
   "source": [
    "# Contar los valores nulos en cada columna de df\n",
    "nulos_por_columna = df.isnull().sum()\n",
    "\n",
    "# Mostrar el conteo de nulos por columna\n",
    "print(nulos_por_columna)\n"
   ]
  },
  {
   "cell_type": "code",
   "execution_count": 5,
   "metadata": {},
   "outputs": [],
   "source": [
    "# Convertir valores no numéricos a NaN y cambiar el tipo de la columna a numérico\n",
    "df['FastCharge_KmH'] = pd.to_numeric(df['FastCharge_KmH'], errors='coerce')"
   ]
  },
  {
   "cell_type": "code",
   "execution_count": 6,
   "metadata": {},
   "outputs": [
    {
     "name": "stdout",
     "output_type": "stream",
     "text": [
      "Brand              0\n",
      "Model              0\n",
      "AccelSec           0\n",
      "TopSpeed_KmH       0\n",
      "Range_Km           0\n",
      "Efficiency_WhKm    0\n",
      "FastCharge_KmH     5\n",
      "RapidCharge        0\n",
      "PowerTrain         0\n",
      "PlugType           0\n",
      "BodyStyle          0\n",
      "Segment            0\n",
      "Seats              0\n",
      "PriceEuro          0\n",
      "dtype: int64\n"
     ]
    }
   ],
   "source": [
    "# Contar los valores nulos en cada columna de df\n",
    "nulos_por_columna = df.isnull().sum()\n",
    "\n",
    "# Mostrar el conteo de nulos por columna\n",
    "print(nulos_por_columna)\n"
   ]
  },
  {
   "cell_type": "code",
   "execution_count": 7,
   "metadata": {},
   "outputs": [],
   "source": [
    "# Cambiamos los nombres de las columnas\n",
    "df.rename(columns={\n",
    "    'Brand': 'Marca',\n",
    "    'Model': 'Modelo',\n",
    "    'AccelSec': 'Aceleracion_Sec', # aceleración de 0 a 100 en k/h.\n",
    "    'TopSpeed_KmH': 'VelocidadMax_KmH',\n",
    "    'Range_Km': 'Autonomia_Km', # Autonomía con una sola carga\n",
    "    'Efficiency_WhKm': 'Eficiencia_WhKm', # cuánta energía (vatios/hora) se necesitan para que recorra 1 kilómetro.\n",
    "    'FastCharge_KmH': 'CargaRapida_KmH', # cuántos kiolmetros de autonomía se pueden cargar en una hora\n",
    "    'RapidCharge': 'CargaRapida',# si soporta carga rápida\n",
    "    'PowerTrain': 'Tipo_tracción',\n",
    "    'PlugType': 'TipoEnchufe',\n",
    "    'BodyStyle': 'EstiloCarroceria',\n",
    "    'Segment': 'Segmento',\n",
    "    'Seats': 'Asientos',\n",
    "    'PriceEuro': 'PrecioEuro'\n",
    "}, inplace=True)\n"
   ]
  },
  {
   "cell_type": "markdown",
   "metadata": {},
   "source": [
    "Estadísticas descriptivas:\n",
    "\n",
    "- Aceleración (Aceleracion_Sec): El tiempo promedio de aceleración de 0 a 100 km/h es de aproximadamente 7.4 segundos. El rango de aceleración va desde muy rápido (2.1 segundos) hasta relativamente lento (22.4 segundos).\n",
    "\n",
    "- Velocidad Máxima (VelocidadMax_KmH): La velocidad máxima promedio es de 179 km/h, con una variaciòn que va desde los 123 km/h hasta los 410 km/h.\n",
    "\n",
    "- Autonomía (Autonomia_Km):La autonomía promedio es de aproximadamente 339 km, lo que nos indica que muchos de estos vehículos pueden satisfacer las necesidades diarias de movilidad sin recarga. La autonomía varía ampliamente de 95 km a 970 km\n",
    "\n",
    "- Eficiencia (Eficiencia_WhKm):La eficiencia energética promedio es de 189 Wh/km. Un valor más bajo es mejor en términos de eficiencia, ya que significa que el vehículo consume menos energía para recorrer la misma distancia. La eficiencia varía de 104 Wh/km a 273 Wh/km.\n",
    "\n",
    "- Carga en una hora (CargaRapida_KmH): El promedio de autonomía por hora de carga rápida es de aproximadamente 456.73 km. La desviación estándar es de 201.26 km/h, lo que muestra una variabilidad considerable en la capacidad de carga rápida entre diferentes modelos que va desde 170 km/h a 940 km/h\n",
    "\n",
    "- Asientos: La mayoría de los vehículos tienen capacidad para aproximadamente 5 pasajeros, lo que es típico para sedanes y SUV medianos. La variación en el número de asientos (de 2 a 7) indica la inclusión de vehículos compactos, deportivos, así como vehículos más grandes diseñados para familias o grupos.\n",
    "\n",
    "- Precio (PrecioEuro):El precio promedio es de aproximadamente 55,811 euros. El precio tiene una variación significativa uqe va desde los 20,129 euros hasta los 215,000 euros. "
   ]
  },
  {
   "cell_type": "code",
   "execution_count": 8,
   "metadata": {},
   "outputs": [
    {
     "data": {
      "text/html": [
       "<div>\n",
       "<style scoped>\n",
       "    .dataframe tbody tr th:only-of-type {\n",
       "        vertical-align: middle;\n",
       "    }\n",
       "\n",
       "    .dataframe tbody tr th {\n",
       "        vertical-align: top;\n",
       "    }\n",
       "\n",
       "    .dataframe thead th {\n",
       "        text-align: right;\n",
       "    }\n",
       "</style>\n",
       "<table border=\"1\" class=\"dataframe\">\n",
       "  <thead>\n",
       "    <tr style=\"text-align: right;\">\n",
       "      <th></th>\n",
       "      <th>Aceleracion_Sec</th>\n",
       "      <th>VelocidadMax_KmH</th>\n",
       "      <th>Autonomia_Km</th>\n",
       "      <th>Eficiencia_WhKm</th>\n",
       "      <th>CargaRapida_KmH</th>\n",
       "      <th>Asientos</th>\n",
       "      <th>PrecioEuro</th>\n",
       "    </tr>\n",
       "  </thead>\n",
       "  <tbody>\n",
       "    <tr>\n",
       "      <th>count</th>\n",
       "      <td>103.000000</td>\n",
       "      <td>103.000000</td>\n",
       "      <td>103.000000</td>\n",
       "      <td>103.000000</td>\n",
       "      <td>98.000000</td>\n",
       "      <td>103.000000</td>\n",
       "      <td>103.000000</td>\n",
       "    </tr>\n",
       "    <tr>\n",
       "      <th>mean</th>\n",
       "      <td>7.396117</td>\n",
       "      <td>179.194175</td>\n",
       "      <td>338.786408</td>\n",
       "      <td>189.165049</td>\n",
       "      <td>456.734694</td>\n",
       "      <td>4.883495</td>\n",
       "      <td>55811.563107</td>\n",
       "    </tr>\n",
       "    <tr>\n",
       "      <th>std</th>\n",
       "      <td>3.017430</td>\n",
       "      <td>43.573030</td>\n",
       "      <td>126.014444</td>\n",
       "      <td>29.566839</td>\n",
       "      <td>201.262897</td>\n",
       "      <td>0.795834</td>\n",
       "      <td>34134.665280</td>\n",
       "    </tr>\n",
       "    <tr>\n",
       "      <th>min</th>\n",
       "      <td>2.100000</td>\n",
       "      <td>123.000000</td>\n",
       "      <td>95.000000</td>\n",
       "      <td>104.000000</td>\n",
       "      <td>170.000000</td>\n",
       "      <td>2.000000</td>\n",
       "      <td>20129.000000</td>\n",
       "    </tr>\n",
       "    <tr>\n",
       "      <th>25%</th>\n",
       "      <td>5.100000</td>\n",
       "      <td>150.000000</td>\n",
       "      <td>250.000000</td>\n",
       "      <td>168.000000</td>\n",
       "      <td>275.000000</td>\n",
       "      <td>5.000000</td>\n",
       "      <td>34429.500000</td>\n",
       "    </tr>\n",
       "    <tr>\n",
       "      <th>50%</th>\n",
       "      <td>7.300000</td>\n",
       "      <td>160.000000</td>\n",
       "      <td>340.000000</td>\n",
       "      <td>180.000000</td>\n",
       "      <td>440.000000</td>\n",
       "      <td>5.000000</td>\n",
       "      <td>45000.000000</td>\n",
       "    </tr>\n",
       "    <tr>\n",
       "      <th>75%</th>\n",
       "      <td>9.000000</td>\n",
       "      <td>200.000000</td>\n",
       "      <td>400.000000</td>\n",
       "      <td>203.000000</td>\n",
       "      <td>560.000000</td>\n",
       "      <td>5.000000</td>\n",
       "      <td>65000.000000</td>\n",
       "    </tr>\n",
       "    <tr>\n",
       "      <th>max</th>\n",
       "      <td>22.400000</td>\n",
       "      <td>410.000000</td>\n",
       "      <td>970.000000</td>\n",
       "      <td>273.000000</td>\n",
       "      <td>940.000000</td>\n",
       "      <td>7.000000</td>\n",
       "      <td>215000.000000</td>\n",
       "    </tr>\n",
       "  </tbody>\n",
       "</table>\n",
       "</div>"
      ],
      "text/plain": [
       "       Aceleracion_Sec  VelocidadMax_KmH  Autonomia_Km  Eficiencia_WhKm  \\\n",
       "count       103.000000        103.000000    103.000000       103.000000   \n",
       "mean          7.396117        179.194175    338.786408       189.165049   \n",
       "std           3.017430         43.573030    126.014444        29.566839   \n",
       "min           2.100000        123.000000     95.000000       104.000000   \n",
       "25%           5.100000        150.000000    250.000000       168.000000   \n",
       "50%           7.300000        160.000000    340.000000       180.000000   \n",
       "75%           9.000000        200.000000    400.000000       203.000000   \n",
       "max          22.400000        410.000000    970.000000       273.000000   \n",
       "\n",
       "       CargaRapida_KmH    Asientos     PrecioEuro  \n",
       "count        98.000000  103.000000     103.000000  \n",
       "mean        456.734694    4.883495   55811.563107  \n",
       "std         201.262897    0.795834   34134.665280  \n",
       "min         170.000000    2.000000   20129.000000  \n",
       "25%         275.000000    5.000000   34429.500000  \n",
       "50%         440.000000    5.000000   45000.000000  \n",
       "75%         560.000000    5.000000   65000.000000  \n",
       "max         940.000000    7.000000  215000.000000  "
      ]
     },
     "execution_count": 8,
     "metadata": {},
     "output_type": "execute_result"
    }
   ],
   "source": [
    "df.describe()"
   ]
  },
  {
   "cell_type": "markdown",
   "metadata": {},
   "source": [
    "# EDA"
   ]
  },
  {
   "cell_type": "code",
   "execution_count": 9,
   "metadata": {},
   "outputs": [
    {
     "name": "stdout",
     "output_type": "stream",
     "text": [
      "<class 'pandas.core.frame.DataFrame'>\n",
      "RangeIndex: 103 entries, 0 to 102\n",
      "Data columns (total 14 columns):\n",
      " #   Column            Non-Null Count  Dtype  \n",
      "---  ------            --------------  -----  \n",
      " 0   Marca             103 non-null    object \n",
      " 1   Modelo            103 non-null    object \n",
      " 2   Aceleracion_Sec   103 non-null    float64\n",
      " 3   VelocidadMax_KmH  103 non-null    int64  \n",
      " 4   Autonomia_Km      103 non-null    int64  \n",
      " 5   Eficiencia_WhKm   103 non-null    int64  \n",
      " 6   CargaRapida_KmH   98 non-null     float64\n",
      " 7   CargaRapida       103 non-null    object \n",
      " 8   Tipo_tracción     103 non-null    object \n",
      " 9   TipoEnchufe       103 non-null    object \n",
      " 10  EstiloCarroceria  103 non-null    object \n",
      " 11  Segmento          103 non-null    object \n",
      " 12  Asientos          103 non-null    int64  \n",
      " 13  PrecioEuro        103 non-null    int64  \n",
      "dtypes: float64(2), int64(5), object(7)\n",
      "memory usage: 11.4+ KB\n"
     ]
    }
   ],
   "source": [
    "df.info()"
   ]
  },
  {
   "cell_type": "markdown",
   "metadata": {},
   "source": [
    "## Los 10 modelos màs eficientes"
   ]
  },
  {
   "cell_type": "code",
   "execution_count": 11,
   "metadata": {},
   "outputs": [
    {
     "name": "stdout",
     "output_type": "stream",
     "text": [
      "         Marca                         Modelo  Eficiencia_WhKm  PrecioEuro\n",
      "48  Lightyear                            One               104      149000\n",
      "8       Tesla     Model 3 Standard Range Plus              153       46380\n",
      "14    Hyundai                  IONIQ Electric              153       34459\n",
      "41    Hyundai            Kona Electric 39 kWh              154       33971\n",
      "74       Sono                           Sion               156       25500\n",
      "19       Mini                      Cooper SE               156       31681\n",
      "12    Hyundai            Kona Electric 64 kWh              160       40795\n",
      "28        BMW                       i3 120 Ah              161       38017\n",
      "60    Renault                   Zoe ZE40 R110              161       29234\n",
      "0       Tesla   Model 3 Long Range Dual Motor              161       55480\n"
     ]
    }
   ],
   "source": [
    "# Ordenar el DataFrame por la columna 'Eficiencia_WhKm' de forma ascendente para obtener los más eficientes primero\n",
    "df_ordenado = df.sort_values(by='Eficiencia_WhKm', ascending=True)\n",
    "\n",
    "# Seleccionar las columnas 'Marca', 'Modelo', 'Eficiencia_WhKm', y 'PrecioEuro', y obtener los primeros 10 registros\n",
    "top10_eficientes = df_ordenado[['Marca', 'Modelo', 'Eficiencia_WhKm', 'PrecioEuro']].head(10)\n",
    "\n",
    "# Mostrar el top 10 de los modelos más eficientes con su marca, eficiencia y precio\n",
    "print(top10_eficientes)\n",
    "\n"
   ]
  },
  {
   "cell_type": "markdown",
   "metadata": {},
   "source": [
    "## Los 10 modelos menos eficientes."
   ]
  },
  {
   "cell_type": "code",
   "execution_count": 12,
   "metadata": {},
   "outputs": [
    {
     "name": "stdout",
     "output_type": "stream",
     "text": [
      "         Marca                           Modelo  Eficiencia_WhKm  PrecioEuro\n",
      "84   Mercedes                      EQV 300 Long              273       70631\n",
      "90       Audi               e-tron S 55 quattro              270       93800\n",
      "33      Tesla              Cybertruck Tri Motor              267       75000\n",
      "67      Tesla             Cybertruck Dual Motor              261       55000\n",
      "99       Audi     e-tron S Sportback 55 quattro              258       96050\n",
      "86      Tesla           Cybertruck Single Motor              256       45000\n",
      "73      Byton                 M-Byte 95 kWh 4WD              244       64000\n",
      "102     Byton                 M-Byte 95 kWh 2WD              238       62000\n",
      "50       Audi                 e-tron 55 quattro              237       79445\n",
      "101    Nissan   Ariya e-4ORCE 87kWh Performance              232       65000\n"
     ]
    }
   ],
   "source": [
    "# Ordenar el DataFrame por la columna 'Eficiencia_WhKm' de forma descendente \n",
    "df_ordenado_menos_eficientes = df.sort_values(by='Eficiencia_WhKm', ascending=False)\n",
    "\n",
    "# Seleccionar las columnas 'Marca', 'Modelo', 'Eficiencia_WhKm', y 'PrecioEuro', y obtener los primeros 10 registros\n",
    "bottom10_eficientes = df_ordenado_menos_eficientes[['Marca', 'Modelo', 'Eficiencia_WhKm', 'PrecioEuro']].head(10)\n",
    "\n",
    "# Mostrar el top 10 de los modelos menos eficientes con su marca, eficiencia y precio\n",
    "print(bottom10_eficientes)"
   ]
  },
  {
   "cell_type": "markdown",
   "metadata": {},
   "source": [
    "## Correlación entre variables\n",
    "\n",
    "Utilizamos correlación de Pearson para medir la relación lineal entre dos variables cuantitativas. El coeficiente de correlación de Pearson, que varía entre -1 y 1, indica el grado y la dirección de la asociación lineal entre las variables. La correlación no implica necesariamente causalidad.\n",
    "\n",
    "Conclusiones:\n",
    "\n",
    "- Autonomía (Autonomia_Km) y Eficiencia (Eficiencia_WhKm):\n",
    "La correlación entre la autonomía y la eficiencia es de 0.313077, lo cual indica una correlación positiva débil. Esto sugiere que hay una tendencia leve hacia una mayor eficiencia (menor Wh/Km) a medida que aumenta la autonomía del vehículo, pero no es una relación fuerte. Es decir, los vehículos con mayor autonomía no necesariamente son los más eficientes en términos de consumo energético.\n",
    "\n",
    "- Autonomía (Autonomia_Km) y Precio (PrecioEuro):\n",
    "La correlación entre la autonomía y el precio es 0.674844, indicando una correlación positiva moderada a fuerte. Esto significa que, en general, los vehículos con mayor autonomía tienden a ser más caros. \n",
    "\n",
    "- Eficiencia (Eficiencia_WhKm) y Precio (PrecioEuro):\n",
    "La correlación entre la eficiencia y el precio es 0.396705, lo cual es una correlación positiva débil a moderada. Esto indica que hay una tendencia hacia vehículos más caros a medida que aumenta la eficiencia (menor Wh/Km), pero la relación no es fuerte.\n",
    "\n",
    "\n",
    "\n"
   ]
  },
  {
   "cell_type": "code",
   "execution_count": 13,
   "metadata": {},
   "outputs": [
    {
     "name": "stdout",
     "output_type": "stream",
     "text": [
      "                 Autonomia_Km  Eficiencia_WhKm  PrecioEuro\n",
      "Autonomia_Km         1.000000         0.313077    0.674844\n",
      "Eficiencia_WhKm      0.313077         1.000000    0.396705\n",
      "PrecioEuro           0.674844         0.396705    1.000000\n"
     ]
    },
    {
     "data": {
      "image/png": "[encoded data removed]",
      "text/plain": [
       "<Figure size 800x600 with 2 Axes>"
      ]
     },
     "metadata": {},
     "output_type": "display_data"
    }
   ],
   "source": [
    "\n",
    "# Seleccionamos las columnas de interés\n",
    "columnas_interes = ['Autonomia_Km', 'Eficiencia_WhKm', 'PrecioEuro']\n",
    "\n",
    "# Calcular la matriz de correlación entre estas columnas\n",
    "matriz_correlacion = df[columnas_interes].corr()\n",
    "\n",
    "# Mostrar la matriz de correlación\n",
    "print(matriz_correlacion)\n",
    "\n",
    "# Visualización de la matriz de correlación con un heatmap\n",
    "plt.figure(figsize=(8, 6))\n",
    "sns.heatmap(matriz_correlacion, annot=True, cmap='coolwarm', fmt=\".2f\", center=0)\n",
    "plt.title(\"Correlación entre Autonomía, Eficiencia y Precio de Vehículos Eléctricos\")\n",
    "plt.show()\n"
   ]
  }
 ],
 "metadata": {
  "kernelspec": {
   "display_name": "mi_entorno_virtual",
   "language": "python",
   "name": "python3"
  },
  "language_info": {
   "codemirror_mode": {
    "name": "ipython",
    "version": 3
   },
   "file_extension": ".py",
   "mimetype": "text/x-python",
   "name": "python",
   "nbconvert_exporter": "python",
   "pygments_lexer": "ipython3",
   "version": "3.10.12"
  }
 },
 "nbformat": 4,
 "nbformat_minor": 2
}
