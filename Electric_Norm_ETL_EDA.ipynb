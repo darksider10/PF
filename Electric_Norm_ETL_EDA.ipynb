{
 "cells": [
  {
   "cell_type": "code",
   "execution_count": 1,
   "metadata": {},
   "outputs": [],
   "source": [
    "import pandas as pd\n",
    "import matplotlib.pyplot as plt\n",
    "import seaborn as sns\n",
    "import numpy as np"
   ]
  },
  {
   "cell_type": "code",
   "execution_count": 2,
   "metadata": {},
   "outputs": [
    {
     "name": "stdout",
     "output_type": "stream",
     "text": [
      "         Brand                          Model     Accel  TopSpeed   Range  \\\n",
      "0       Tesla   Model 3 Long Range Dual Motor   4.6 sec  233 km/h  450 km   \n",
      "1  Volkswagen                       ID.3 Pure  10.0 sec  160 km/h  270 km   \n",
      "2    Polestar                               2   4.7 sec  210 km/h  400 km   \n",
      "3         BMW                            iX3    6.8 sec  180 km/h  360 km   \n",
      "4       Honda                              e    9.5 sec  145 km/h  170 km   \n",
      "\n",
      "  Efficiency FastCharge              RapidCharge        PowerTrain  \\\n",
      "0  161 Wh/km   940 km/h  Rapid charging possible   All Wheel Drive   \n",
      "1  167 Wh/km   250 km/h  Rapid charging possible  Rear Wheel Drive   \n",
      "2  181 Wh/km   620 km/h  Rapid charging possible   All Wheel Drive   \n",
      "3  206 Wh/km   560 km/h  Rapid charging possible  Rear Wheel Drive   \n",
      "4  168 Wh/km   190 km/h  Rapid charging possible  Rear Wheel Drive   \n",
      "\n",
      "     PlugType  BodyStyle Segment  Seats  PriceEuro  \n",
      "0  Type 2 CCS      Sedan       D      5      55480  \n",
      "1  Type 2 CCS  Hatchback       C      5      30000  \n",
      "2  Type 2 CCS   Liftback       D      5      56440  \n",
      "3  Type 2 CCS        SUV       D      5      68040  \n",
      "4  Type 2 CCS  Hatchback       B      4      32997  \n"
     ]
    }
   ],
   "source": [
    "ruta_archivo1 = \"Datasets/ElectricCarData_Norm.csv\"\n",
    "df = pd.read_csv(ruta_archivo1)\n",
    "\n",
    "print(df.head())"
   ]
  },
  {
   "cell_type": "code",
   "execution_count": 3,
   "metadata": {},
   "outputs": [
    {
     "name": "stdout",
     "output_type": "stream",
     "text": [
      "<class 'pandas.core.frame.DataFrame'>\n",
      "RangeIndex: 103 entries, 0 to 102\n",
      "Data columns (total 14 columns):\n",
      " #   Column       Non-Null Count  Dtype \n",
      "---  ------       --------------  ----- \n",
      " 0   Brand        103 non-null    object\n",
      " 1   Model        103 non-null    object\n",
      " 2   Accel        103 non-null    object\n",
      " 3   TopSpeed     103 non-null    object\n",
      " 4   Range        103 non-null    object\n",
      " 5   Efficiency   103 non-null    object\n",
      " 6   FastCharge   103 non-null    object\n",
      " 7   RapidCharge  103 non-null    object\n",
      " 8   PowerTrain   103 non-null    object\n",
      " 9   PlugType     103 non-null    object\n",
      " 10  BodyStyle    103 non-null    object\n",
      " 11  Segment      103 non-null    object\n",
      " 12  Seats        103 non-null    int64 \n",
      " 13  PriceEuro    103 non-null    int64 \n",
      "dtypes: int64(2), object(12)\n",
      "memory usage: 11.4+ KB\n"
     ]
    }
   ],
   "source": [
    "df.info()"
   ]
  },
  {
   "cell_type": "markdown",
   "metadata": {},
   "source": [
    "# ETL"
   ]
  },
  {
   "cell_type": "code",
   "execution_count": 4,
   "metadata": {},
   "outputs": [],
   "source": [
    "df.rename(columns={\n",
    "    'Brand': 'Marca',\n",
    "    'Model': 'Modelo',\n",
    "    'Accel': 'Aceleracion(segundos)',\n",
    "    'TopSpeed': 'VelocidadMax(km/h)',\n",
    "    'Range': 'Autonomia(km)', # Autonomía del vehículo con una sola carga, expresada en km\n",
    "    'Efficiency': 'Eficiencia(Wh/km)', # vatios-hora por kilómetro\n",
    "    'FastCharge': 'CargaRapida(km/h)',# cuántos km de autonomía se pueden cargar en una hora, expresada en km/h.\n",
    "    'RapidCharge': 'CargaRapidaPosible',\n",
    "    'PowerTrain': 'TipoTraccion',\n",
    "    'PlugType': 'TipoEnchufe',\n",
    "    'BodyStyle': 'EstiloCarroceria',\n",
    "    'Segment': 'Segmento',\n",
    "    'Seats': 'Asientos',\n",
    "    'PriceEuro': 'PrecioEuro'\n",
    "}, inplace=True)\n"
   ]
  },
  {
   "cell_type": "code",
   "execution_count": 5,
   "metadata": {},
   "outputs": [
    {
     "name": "stdout",
     "output_type": "stream",
     "text": [
      "<class 'pandas.core.frame.DataFrame'>\n",
      "RangeIndex: 103 entries, 0 to 102\n",
      "Data columns (total 14 columns):\n",
      " #   Column                 Non-Null Count  Dtype \n",
      "---  ------                 --------------  ----- \n",
      " 0   Marca                  103 non-null    object\n",
      " 1   Modelo                 103 non-null    object\n",
      " 2   Aceleracion(segundos)  103 non-null    object\n",
      " 3   VelocidadMax(km/h)     103 non-null    object\n",
      " 4   Autonomia(km)          103 non-null    object\n",
      " 5   Eficiencia(Wh/km)      103 non-null    object\n",
      " 6   CargaRapida(km/h)      103 non-null    object\n",
      " 7   CargaRapidaPosible     103 non-null    object\n",
      " 8   TipoTraccion           103 non-null    object\n",
      " 9   TipoEnchufe            103 non-null    object\n",
      " 10  EstiloCarroceria       103 non-null    object\n",
      " 11  Segmento               103 non-null    object\n",
      " 12  Asientos               103 non-null    int64 \n",
      " 13  PrecioEuro             103 non-null    int64 \n",
      "dtypes: int64(2), object(12)\n",
      "memory usage: 11.4+ KB\n"
     ]
    }
   ],
   "source": [
    "df.info()"
   ]
  },
  {
   "cell_type": "code",
   "execution_count": 6,
   "metadata": {},
   "outputs": [
    {
     "data": {
      "text/html": [
       "<div>\n",
       "<style scoped>\n",
       "    .dataframe tbody tr th:only-of-type {\n",
       "        vertical-align: middle;\n",
       "    }\n",
       "\n",
       "    .dataframe tbody tr th {\n",
       "        vertical-align: top;\n",
       "    }\n",
       "\n",
       "    .dataframe thead th {\n",
       "        text-align: right;\n",
       "    }\n",
       "</style>\n",
       "<table border=\"1\" class=\"dataframe\">\n",
       "  <thead>\n",
       "    <tr style=\"text-align: right;\">\n",
       "      <th></th>\n",
       "      <th>Marca</th>\n",
       "      <th>Modelo</th>\n",
       "      <th>Aceleracion(segundos)</th>\n",
       "      <th>VelocidadMax(km/h)</th>\n",
       "      <th>Autonomia(km)</th>\n",
       "      <th>Eficiencia(Wh/km)</th>\n",
       "      <th>CargaRapida(km/h)</th>\n",
       "      <th>CargaRapidaPosible</th>\n",
       "      <th>TipoTraccion</th>\n",
       "      <th>TipoEnchufe</th>\n",
       "      <th>EstiloCarroceria</th>\n",
       "      <th>Segmento</th>\n",
       "      <th>Asientos</th>\n",
       "      <th>PrecioEuro</th>\n",
       "    </tr>\n",
       "  </thead>\n",
       "  <tbody>\n",
       "    <tr>\n",
       "      <th>0</th>\n",
       "      <td>Tesla</td>\n",
       "      <td>Model 3 Long Range Dual Motor</td>\n",
       "      <td>4.6 sec</td>\n",
       "      <td>233 km/h</td>\n",
       "      <td>450 km</td>\n",
       "      <td>161 Wh/km</td>\n",
       "      <td>940 km/h</td>\n",
       "      <td>Rapid charging possible</td>\n",
       "      <td>All Wheel Drive</td>\n",
       "      <td>Type 2 CCS</td>\n",
       "      <td>Sedan</td>\n",
       "      <td>D</td>\n",
       "      <td>5</td>\n",
       "      <td>55480</td>\n",
       "    </tr>\n",
       "    <tr>\n",
       "      <th>1</th>\n",
       "      <td>Volkswagen</td>\n",
       "      <td>ID.3 Pure</td>\n",
       "      <td>10.0 sec</td>\n",
       "      <td>160 km/h</td>\n",
       "      <td>270 km</td>\n",
       "      <td>167 Wh/km</td>\n",
       "      <td>250 km/h</td>\n",
       "      <td>Rapid charging possible</td>\n",
       "      <td>Rear Wheel Drive</td>\n",
       "      <td>Type 2 CCS</td>\n",
       "      <td>Hatchback</td>\n",
       "      <td>C</td>\n",
       "      <td>5</td>\n",
       "      <td>30000</td>\n",
       "    </tr>\n",
       "    <tr>\n",
       "      <th>2</th>\n",
       "      <td>Polestar</td>\n",
       "      <td>2</td>\n",
       "      <td>4.7 sec</td>\n",
       "      <td>210 km/h</td>\n",
       "      <td>400 km</td>\n",
       "      <td>181 Wh/km</td>\n",
       "      <td>620 km/h</td>\n",
       "      <td>Rapid charging possible</td>\n",
       "      <td>All Wheel Drive</td>\n",
       "      <td>Type 2 CCS</td>\n",
       "      <td>Liftback</td>\n",
       "      <td>D</td>\n",
       "      <td>5</td>\n",
       "      <td>56440</td>\n",
       "    </tr>\n",
       "    <tr>\n",
       "      <th>3</th>\n",
       "      <td>BMW</td>\n",
       "      <td>iX3</td>\n",
       "      <td>6.8 sec</td>\n",
       "      <td>180 km/h</td>\n",
       "      <td>360 km</td>\n",
       "      <td>206 Wh/km</td>\n",
       "      <td>560 km/h</td>\n",
       "      <td>Rapid charging possible</td>\n",
       "      <td>Rear Wheel Drive</td>\n",
       "      <td>Type 2 CCS</td>\n",
       "      <td>SUV</td>\n",
       "      <td>D</td>\n",
       "      <td>5</td>\n",
       "      <td>68040</td>\n",
       "    </tr>\n",
       "    <tr>\n",
       "      <th>4</th>\n",
       "      <td>Honda</td>\n",
       "      <td>e</td>\n",
       "      <td>9.5 sec</td>\n",
       "      <td>145 km/h</td>\n",
       "      <td>170 km</td>\n",
       "      <td>168 Wh/km</td>\n",
       "      <td>190 km/h</td>\n",
       "      <td>Rapid charging possible</td>\n",
       "      <td>Rear Wheel Drive</td>\n",
       "      <td>Type 2 CCS</td>\n",
       "      <td>Hatchback</td>\n",
       "      <td>B</td>\n",
       "      <td>4</td>\n",
       "      <td>32997</td>\n",
       "    </tr>\n",
       "    <tr>\n",
       "      <th>...</th>\n",
       "      <td>...</td>\n",
       "      <td>...</td>\n",
       "      <td>...</td>\n",
       "      <td>...</td>\n",
       "      <td>...</td>\n",
       "      <td>...</td>\n",
       "      <td>...</td>\n",
       "      <td>...</td>\n",
       "      <td>...</td>\n",
       "      <td>...</td>\n",
       "      <td>...</td>\n",
       "      <td>...</td>\n",
       "      <td>...</td>\n",
       "      <td>...</td>\n",
       "    </tr>\n",
       "    <tr>\n",
       "      <th>98</th>\n",
       "      <td>Nissan</td>\n",
       "      <td>Ariya 63kWh</td>\n",
       "      <td>7.5 sec</td>\n",
       "      <td>160 km/h</td>\n",
       "      <td>330 km</td>\n",
       "      <td>191 Wh/km</td>\n",
       "      <td>440 km/h</td>\n",
       "      <td>Rapid charging possible</td>\n",
       "      <td>Front Wheel Drive</td>\n",
       "      <td>Type 2 CCS</td>\n",
       "      <td>Hatchback</td>\n",
       "      <td>C</td>\n",
       "      <td>5</td>\n",
       "      <td>45000</td>\n",
       "    </tr>\n",
       "    <tr>\n",
       "      <th>99</th>\n",
       "      <td>Audi</td>\n",
       "      <td>e-tron S Sportback 55 quattro</td>\n",
       "      <td>4.5 sec</td>\n",
       "      <td>210 km/h</td>\n",
       "      <td>335 km</td>\n",
       "      <td>258 Wh/km</td>\n",
       "      <td>540 km/h</td>\n",
       "      <td>Rapid charging possible</td>\n",
       "      <td>All Wheel Drive</td>\n",
       "      <td>Type 2 CCS</td>\n",
       "      <td>SUV</td>\n",
       "      <td>E</td>\n",
       "      <td>5</td>\n",
       "      <td>96050</td>\n",
       "    </tr>\n",
       "    <tr>\n",
       "      <th>100</th>\n",
       "      <td>Nissan</td>\n",
       "      <td>Ariya e-4ORCE 63kWh</td>\n",
       "      <td>5.9 sec</td>\n",
       "      <td>200 km/h</td>\n",
       "      <td>325 km</td>\n",
       "      <td>194 Wh/km</td>\n",
       "      <td>440 km/h</td>\n",
       "      <td>Rapid charging possible</td>\n",
       "      <td>All Wheel Drive</td>\n",
       "      <td>Type 2 CCS</td>\n",
       "      <td>Hatchback</td>\n",
       "      <td>C</td>\n",
       "      <td>5</td>\n",
       "      <td>50000</td>\n",
       "    </tr>\n",
       "    <tr>\n",
       "      <th>101</th>\n",
       "      <td>Nissan</td>\n",
       "      <td>Ariya e-4ORCE 87kWh Performance</td>\n",
       "      <td>5.1 sec</td>\n",
       "      <td>200 km/h</td>\n",
       "      <td>375 km</td>\n",
       "      <td>232 Wh/km</td>\n",
       "      <td>450 km/h</td>\n",
       "      <td>Rapid charging possible</td>\n",
       "      <td>All Wheel Drive</td>\n",
       "      <td>Type 2 CCS</td>\n",
       "      <td>Hatchback</td>\n",
       "      <td>C</td>\n",
       "      <td>5</td>\n",
       "      <td>65000</td>\n",
       "    </tr>\n",
       "    <tr>\n",
       "      <th>102</th>\n",
       "      <td>Byton</td>\n",
       "      <td>M-Byte 95 kWh 2WD</td>\n",
       "      <td>7.5 sec</td>\n",
       "      <td>190 km/h</td>\n",
       "      <td>400 km</td>\n",
       "      <td>238 Wh/km</td>\n",
       "      <td>480 km/h</td>\n",
       "      <td>Rapid charging possible</td>\n",
       "      <td>All Wheel Drive</td>\n",
       "      <td>Type 2 CCS</td>\n",
       "      <td>SUV</td>\n",
       "      <td>E</td>\n",
       "      <td>5</td>\n",
       "      <td>62000</td>\n",
       "    </tr>\n",
       "  </tbody>\n",
       "</table>\n",
       "<p>103 rows × 14 columns</p>\n",
       "</div>"
      ],
      "text/plain": [
       "           Marca                           Modelo Aceleracion(segundos)  \\\n",
       "0         Tesla     Model 3 Long Range Dual Motor               4.6 sec   \n",
       "1    Volkswagen                         ID.3 Pure              10.0 sec   \n",
       "2      Polestar                                 2               4.7 sec   \n",
       "3           BMW                              iX3                6.8 sec   \n",
       "4         Honda                                e                9.5 sec   \n",
       "..           ...                              ...                   ...   \n",
       "98       Nissan                       Ariya 63kWh               7.5 sec   \n",
       "99         Audi     e-tron S Sportback 55 quattro               4.5 sec   \n",
       "100      Nissan               Ariya e-4ORCE 63kWh               5.9 sec   \n",
       "101      Nissan   Ariya e-4ORCE 87kWh Performance               5.1 sec   \n",
       "102       Byton                 M-Byte 95 kWh 2WD               7.5 sec   \n",
       "\n",
       "    VelocidadMax(km/h) Autonomia(km) Eficiencia(Wh/km) CargaRapida(km/h)  \\\n",
       "0             233 km/h        450 km         161 Wh/km          940 km/h   \n",
       "1             160 km/h        270 km         167 Wh/km          250 km/h   \n",
       "2             210 km/h        400 km         181 Wh/km          620 km/h   \n",
       "3             180 km/h        360 km         206 Wh/km          560 km/h   \n",
       "4             145 km/h        170 km         168 Wh/km          190 km/h   \n",
       "..                 ...           ...               ...               ...   \n",
       "98            160 km/h        330 km         191 Wh/km          440 km/h   \n",
       "99            210 km/h        335 km         258 Wh/km          540 km/h   \n",
       "100           200 km/h        325 km         194 Wh/km          440 km/h   \n",
       "101           200 km/h        375 km         232 Wh/km          450 km/h   \n",
       "102           190 km/h        400 km         238 Wh/km          480 km/h   \n",
       "\n",
       "          CargaRapidaPosible       TipoTraccion TipoEnchufe EstiloCarroceria  \\\n",
       "0    Rapid charging possible    All Wheel Drive  Type 2 CCS            Sedan   \n",
       "1    Rapid charging possible   Rear Wheel Drive  Type 2 CCS        Hatchback   \n",
       "2    Rapid charging possible    All Wheel Drive  Type 2 CCS         Liftback   \n",
       "3    Rapid charging possible   Rear Wheel Drive  Type 2 CCS              SUV   \n",
       "4    Rapid charging possible   Rear Wheel Drive  Type 2 CCS        Hatchback   \n",
       "..                       ...                ...         ...              ...   \n",
       "98   Rapid charging possible  Front Wheel Drive  Type 2 CCS        Hatchback   \n",
       "99   Rapid charging possible    All Wheel Drive  Type 2 CCS              SUV   \n",
       "100  Rapid charging possible    All Wheel Drive  Type 2 CCS        Hatchback   \n",
       "101  Rapid charging possible    All Wheel Drive  Type 2 CCS        Hatchback   \n",
       "102  Rapid charging possible    All Wheel Drive  Type 2 CCS              SUV   \n",
       "\n",
       "    Segmento  Asientos  PrecioEuro  \n",
       "0          D         5       55480  \n",
       "1          C         5       30000  \n",
       "2          D         5       56440  \n",
       "3          D         5       68040  \n",
       "4          B         4       32997  \n",
       "..       ...       ...         ...  \n",
       "98         C         5       45000  \n",
       "99         E         5       96050  \n",
       "100        C         5       50000  \n",
       "101        C         5       65000  \n",
       "102        E         5       62000  \n",
       "\n",
       "[103 rows x 14 columns]"
      ]
     },
     "execution_count": 6,
     "metadata": {},
     "output_type": "execute_result"
    }
   ],
   "source": [
    "df"
   ]
  },
  {
   "cell_type": "markdown",
   "metadata": {},
   "source": [
    "Transformamos los datos para que sea màs fàcil su posterior manipulaciòn. Eliminamos expresiones string para que las columnas queden como numèricas"
   ]
  },
  {
   "cell_type": "code",
   "execution_count": 7,
   "metadata": {},
   "outputs": [],
   "source": [
    "\n",
    "# Eliminar \" sec\" de todas las filas en la columna 'Aceleracion(segundos)'\n",
    "df['Aceleracion(segundos)'] = df['Aceleracion(segundos)'].str.replace(' sec', '')\n",
    "\n",
    "# Convertir la columna 'Aceleracion' a float\n",
    "df['Aceleracion(segundos)'] = df['Aceleracion(segundos)'].astype(float)\n",
    "\n"
   ]
  },
  {
   "cell_type": "code",
   "execution_count": 8,
   "metadata": {},
   "outputs": [],
   "source": [
    "# Eliminar \"km/h\" de todas las filas en la columna 'VelocidadMax(km/h)'\n",
    "df['VelocidadMax(km/h)'] = df['VelocidadMax(km/h)'].str.replace(' km/h', '')\n",
    "\n",
    "# Convertir la columna 'VelocidadMax' a integer\n",
    "df['VelocidadMax(km/h)'] = df['VelocidadMax(km/h)'].astype(int)"
   ]
  },
  {
   "cell_type": "code",
   "execution_count": 9,
   "metadata": {},
   "outputs": [],
   "source": [
    "# Eliminar \"km\" de todas las filas en la columna 'Autonomia(km)'\n",
    "df['Autonomia(km)'] = df['Autonomia(km)'].str.replace(' km', '')\n",
    "\n",
    "# Convertir la columna 'Autonomia' a integer\n",
    "df['Autonomia(km)'] = df['Autonomia(km)'].astype(int)\n"
   ]
  },
  {
   "cell_type": "code",
   "execution_count": 10,
   "metadata": {},
   "outputs": [],
   "source": [
    "# Eliminar \"Wh/km\" de todas las filas en la columna 'Eficiencia(Wh/km)'\n",
    "df['Eficiencia(Wh/km)'] = df['Eficiencia(Wh/km)'].str.replace(' Wh/km', '')\n",
    "\n",
    "# Convertir la columna 'Autonomia' a integer\n",
    "df['Eficiencia(Wh/km)'] = df['Eficiencia(Wh/km)'].astype(int)\n"
   ]
  },
  {
   "cell_type": "code",
   "execution_count": 13,
   "metadata": {},
   "outputs": [],
   "source": [
    "# Reemplazar '-' por NaN\n",
    "df['CargaRapida(km/h)'] = df['CargaRapida(km/h)'].replace('-', np.nan)\n",
    "\n",
    "# Eiminar fila con NaN\n",
    "df.dropna(subset=['CargaRapida(km/h)'], inplace=True)\n",
    "\n",
    "# Eliminar \"km/h\" de todas las filas en la columna 'CargaRapida(km/h)'\n",
    "df['CargaRapida(km/h)'] = df['CargaRapida(km/h)'].str.replace(' km/h', '')\n",
    "\n",
    "# Convertir la columna 'Autonomia' a integer\n",
    "df['CargaRapida(km/h)'] = df['CargaRapida(km/h)'].astype(int)"
   ]
  },
  {
   "cell_type": "code",
   "execution_count": 15,
   "metadata": {},
   "outputs": [
    {
     "name": "stdout",
     "output_type": "stream",
     "text": [
      "<class 'pandas.core.frame.DataFrame'>\n",
      "Index: 98 entries, 0 to 102\n",
      "Data columns (total 14 columns):\n",
      " #   Column                 Non-Null Count  Dtype  \n",
      "---  ------                 --------------  -----  \n",
      " 0   Marca                  98 non-null     object \n",
      " 1   Modelo                 98 non-null     object \n",
      " 2   Aceleracion(segundos)  98 non-null     float64\n",
      " 3   VelocidadMax(km/h)     98 non-null     int64  \n",
      " 4   Autonomia(km)          98 non-null     int64  \n",
      " 5   Eficiencia(Wh/km)      98 non-null     int64  \n",
      " 6   CargaRapida(km/h)      98 non-null     int64  \n",
      " 7   CargaRapidaPosible     98 non-null     object \n",
      " 8   TipoTraccion           98 non-null     object \n",
      " 9   TipoEnchufe            98 non-null     object \n",
      " 10  EstiloCarroceria       98 non-null     object \n",
      " 11  Segmento               98 non-null     object \n",
      " 12  Asientos               98 non-null     int64  \n",
      " 13  PrecioEuro             98 non-null     int64  \n",
      "dtypes: float64(1), int64(6), object(7)\n",
      "memory usage: 11.5+ KB\n"
     ]
    }
   ],
   "source": [
    "df.info()"
   ]
  },
  {
   "cell_type": "markdown",
   "metadata": {},
   "source": [
    "# EDA"
   ]
  },
  {
   "cell_type": "markdown",
   "metadata": {},
   "source": [
    "Estadísticas descriptivas:\n",
    "    \n",
    "- Aceleración (segundos):El tiempo promedio de aceleración de 0 a 100 km/h es de aproximadamente 7 segundos, lo que indica un rendimiento relativamente rápido en general. La desviación estándar de aproximadamente 2.48 segundos muestra variabilidad en el rendimiento de aceleración entre los vehículos, cuyo rango va desde una aceleración de 2.1 segundos hasta los 14 segundos.\n",
    "\n",
    "- Velocidad Máxima (km/h): La velocidad máxima promedio es de aproximadamente 182 km/h. La variabilidad en la velocidad máxima se refleja en una desviación estándar de 43.25 km/h, desde 123 km/h hasta 410 km/h.\n",
    "\n",
    "- Autonomía (km): La autonomía promedio de los vehículos es de 350 km por carga, lo que sugiere que muchos vehículos pueden manejar las necesidades diarias de conducción sin recarga frecuente. La variabilidad en la autonomía (desviación estándar de 118.22 km) va desde 970 km, hasta 170 km.\n",
    "\n",
    "- Eficiencia (Wh/km): La eficiencia energética promedio es de aproximadamente 190 Wh/km. Valores más bajos indican mayor eficiencia, es decir, menos energía utilizada por kilómetro.\n",
    "La desviación estándar de 30.06 Wh/km y un rango de 104 a 273 Wh/km.\n",
    "    \n",
    "- Carga Rápida (km/h): La velocidad de carga rápida promedio es de 457 km/h, lo que indica que, en promedio, los vehículos pueden recargar una cantidad significativa de autonomía en una hora.\n",
    "Una amplia gama en la velocidad de carga rápida (desde 170 km/h hasta 940 km/h) sugiere diferencias significativas en la tecnología de carga entre los vehículos.\n",
    "\n",
    "- Asientos: En promedio, los vehículos tienen casi 5 asientos, con una ligera variabilidad (desviación estándar de 0.69).\n",
    "\n",
    "- Precio Euro: El precio promedio es de aproximadamente 57,325 euros, con una amplia gama de precios desde 20,129 euros hasta 215,000 euros. La desviación estándar de aproximadamente 34,288 euros refleja esta amplia variabilidad en el precio."
   ]
  },
  {
   "cell_type": "code",
   "execution_count": 17,
   "metadata": {},
   "outputs": [
    {
     "name": "stdout",
     "output_type": "stream",
     "text": [
      "       Aceleracion(segundos)  VelocidadMax(km/h)  Autonomia(km)  \\\n",
      "count              98.000000           98.000000      98.000000   \n",
      "mean                7.046939          181.653061     350.153061   \n",
      "std                 2.483895           43.248527     118.217984   \n",
      "min                 2.100000          123.000000     170.000000   \n",
      "25%                 5.100000          150.000000     258.750000   \n",
      "50%                 7.300000          167.000000     350.000000   \n",
      "75%                 8.950000          200.000000     407.500000   \n",
      "max                14.000000          410.000000     970.000000   \n",
      "\n",
      "       Eficiencia(Wh/km)  CargaRapida(km/h)   Asientos     PrecioEuro  \n",
      "count          98.000000          98.000000  98.000000      98.000000  \n",
      "mean          189.867347         456.734694   4.959184   57324.683673  \n",
      "std            30.055837         201.262897   0.687418   34288.246370  \n",
      "min           104.000000         170.000000   4.000000   20129.000000  \n",
      "25%           168.000000         275.000000   5.000000   35000.000000  \n",
      "50%           181.000000         440.000000   5.000000   45000.000000  \n",
      "75%           206.000000         560.000000   5.000000   65465.000000  \n",
      "max           273.000000         940.000000   7.000000  215000.000000  \n"
     ]
    }
   ],
   "source": [
    "print(df.describe())"
   ]
  },
  {
   "cell_type": "markdown",
   "metadata": {},
   "source": [
    "Matriz de correlación de Pearson\n",
    "\n",
    "- Aceleración y Velocidad Máxima (−0.84): Una fuerte correlación negativa sugiere que los vehículos que aceleran más rápido tienden a tener una mayor velocidad máxima.\n",
    "\n",
    "- Aceleración y Autonomía (−0.66): Una correlación negativa moderada indica que los vehículos que aceleran más rápido generalmente tienen una mayor autonomía.\n",
    "\n",
    "- Aceleración y Carga Rápida (−0.77): Una fuerte correlación negativa indica que los vehículos con tiempos de aceleración más rápidos pueden cargar una mayor cantidad de autonomía por hora.\n",
    "\n",
    "- Velocidad Máxima y Autonomía (0.73): Una correlación positiva fuerte significa que los vehículos con mayores velocidades máximas suelen tener también mayor autonomía.\n",
    "\n",
    "- Velocidad Máxima y Carga Rápida (0.77): Una fuerte correlación positiva indica que los vehículos con mayores velocidades máximas también pueden cargar más rápidamente.\n",
    "\n",
    "- Velocidad Máxima y Precio (0.82): Una correlación muy fuerte sugiere que los vehículos con velocidades máximas más altas tienden a ser más caros.\n",
    "\n",
    "- Autonomía y Carga Rápida (0.70): Una correlación positiva fuerte muestra que los vehículos con mayor autonomía también suelen tener mayores velocidades de carga rápida.\n",
    "\n",
    "- Autonomía y Precio (0.66): Una correlación positiva fuerte indica que los vehículos con mayor autonomía tienden a tener precios más altos.\n",
    "\n",
    "- Carga Rápida y Precio (0.65): Una correlación positiva fuerte sugiere que los vehículos con mayores velocidades de carga rápida tienden a ser más caros."
   ]
  },
  {
   "cell_type": "code",
   "execution_count": 22,
   "metadata": {},
   "outputs": [
    {
     "name": "stdout",
     "output_type": "stream",
     "text": [
      "                       Aceleracion(segundos)  VelocidadMax(km/h)  \\\n",
      "Aceleracion(segundos)               1.000000           -0.844706   \n",
      "VelocidadMax(km/h)                 -0.844706            1.000000   \n",
      "Autonomia(km)                      -0.656763            0.729297   \n",
      "Eficiencia(Wh/km)                  -0.439087            0.343488   \n",
      "CargaRapida(km/h)                  -0.768397            0.769719   \n",
      "Asientos                           -0.046564            0.023792   \n",
      "PrecioEuro                         -0.683177            0.822229   \n",
      "\n",
      "                       Autonomia(km)  Eficiencia(Wh/km)  CargaRapida(km/h)  \\\n",
      "Aceleracion(segundos)      -0.656763          -0.439087          -0.768397   \n",
      "VelocidadMax(km/h)          0.729297           0.343488           0.769719   \n",
      "Autonomia(km)               1.000000           0.296230           0.698120   \n",
      "Eficiencia(Wh/km)           0.296230           1.000000           0.307342   \n",
      "CargaRapida(km/h)           0.698120           0.307342           1.000000   \n",
      "Asientos                    0.154212           0.290138           0.096641   \n",
      "PrecioEuro                  0.662957           0.384342           0.651613   \n",
      "\n",
      "                       Asientos  PrecioEuro  \n",
      "Aceleracion(segundos) -0.046564   -0.683177  \n",
      "VelocidadMax(km/h)     0.023792    0.822229  \n",
      "Autonomia(km)          0.154212    0.662957  \n",
      "Eficiencia(Wh/km)      0.290138    0.384342  \n",
      "CargaRapida(km/h)      0.096641    0.651613  \n",
      "Asientos               1.000000   -0.086514  \n",
      "PrecioEuro            -0.086514    1.000000  \n"
     ]
    },
    {
     "data": {
      "image/png": "[encoded data removed]",
      "text/plain": [
       "<Figure size 1000x800 with 2 Axes>"
      ]
     },
     "metadata": {},
     "output_type": "display_data"
    }
   ],
   "source": [
    "# Seleccionar solo las columnas de interés\n",
    "columnas_de_interes = ['Aceleracion(segundos)', 'VelocidadMax(km/h)', 'Autonomia(km)', 'Eficiencia(Wh/km)', 'CargaRapida(km/h)', 'Asientos', 'PrecioEuro']\n",
    "df_interes = df[columnas_de_interes]\n",
    "\n",
    "# Calcular la matriz de correlación de Pearson\n",
    "matriz_correlacion = df_interes.corr()\n",
    "\n",
    "# Mostrar la matriz de correlación\n",
    "print(matriz_correlacion)\n",
    "\n",
    "# Visualización de la matriz de correlación con un heatmap\n",
    "plt.figure(figsize=(10, 8))\n",
    "sns.heatmap(matriz_correlacion, annot=True, cmap='coolwarm', fmt=\".2f\")\n",
    "plt.title('Matriz de Correlación de Pearson')\n",
    "plt.show()\n"
   ]
  },
  {
   "cell_type": "markdown",
   "metadata": {},
   "source": [
    "## Los 10 modelos màs eficientes"
   ]
  },
  {
   "cell_type": "code",
   "execution_count": 23,
   "metadata": {},
   "outputs": [
    {
     "name": "stdout",
     "output_type": "stream",
     "text": [
      "         Marca                         Modelo  Eficiencia(Wh/km)  PrecioEuro\n",
      "48  Lightyear                            One                 104      149000\n",
      "14    Hyundai                  IONIQ Electric                153       34459\n",
      "8       Tesla     Model 3 Standard Range Plus                153       46380\n",
      "41    Hyundai            Kona Electric 39 kWh                154       33971\n",
      "74       Sono                           Sion                 156       25500\n",
      "19       Mini                      Cooper SE                 156       31681\n",
      "12    Hyundai            Kona Electric 64 kWh                160       40795\n",
      "60    Renault                   Zoe ZE40 R110                161       29234\n",
      "28        BMW                       i3 120 Ah                161       38017\n",
      "0       Tesla   Model 3 Long Range Dual Motor                161       55480\n"
     ]
    }
   ],
   "source": [
    "# Ordenar el DataFrame por la columna 'Eficiencia(Wh/km)' de forma ascendente para obtener los más eficientes primero\n",
    "df_ordenado = df.sort_values(by='Eficiencia(Wh/km)', ascending=True)\n",
    "\n",
    "# Seleccionar las columnas 'Marca', 'Modelo', 'Eficiencia_WhKm', y 'PrecioEuro', y obtener los primeros 10 registros\n",
    "top10_eficientes = df_ordenado[['Marca', 'Modelo', 'Eficiencia(Wh/km)', 'PrecioEuro']].head(10)\n",
    "\n",
    "# Mostrar el top 10 de los modelos más eficientes con su marca, eficiencia y precio\n",
    "print(top10_eficientes)\n"
   ]
  },
  {
   "cell_type": "markdown",
   "metadata": {},
   "source": [
    "## Los 10 modelos menos eficientes."
   ]
  },
  {
   "cell_type": "code",
   "execution_count": 24,
   "metadata": {},
   "outputs": [
    {
     "name": "stdout",
     "output_type": "stream",
     "text": [
      "         Marca                           Modelo  Eficiencia(Wh/km)  PrecioEuro\n",
      "84   Mercedes                      EQV 300 Long                273       70631\n",
      "90       Audi               e-tron S 55 quattro                270       93800\n",
      "33      Tesla              Cybertruck Tri Motor                267       75000\n",
      "67      Tesla             Cybertruck Dual Motor                261       55000\n",
      "99       Audi     e-tron S Sportback 55 quattro                258       96050\n",
      "86      Tesla           Cybertruck Single Motor                256       45000\n",
      "73      Byton                 M-Byte 95 kWh 4WD                244       64000\n",
      "102     Byton                 M-Byte 95 kWh 2WD                238       62000\n",
      "50       Audi                 e-tron 55 quattro                237       79445\n",
      "101    Nissan   Ariya e-4ORCE 87kWh Performance                232       65000\n"
     ]
    }
   ],
   "source": [
    "# Ordenar el DataFrame por la columna 'Eficiencia(Wh/km)' de forma descendente \n",
    "df_ordenado_menos_eficientes = df.sort_values(by='Eficiencia(Wh/km)', ascending=False)\n",
    "\n",
    "# Seleccionar las columnas 'Marca', 'Modelo', 'Eficiencia_WhKm', y 'PrecioEuro', y obtener los primeros 10 registros\n",
    "bottom10_eficientes = df_ordenado_menos_eficientes[['Marca', 'Modelo', 'Eficiencia(Wh/km)', 'PrecioEuro']].head(10)\n",
    "\n",
    "# Mostrar el top 10 de los modelos menos eficientes con su marca, eficiencia y precio\n",
    "print(bottom10_eficientes)"
   ]
  }
 ],
 "metadata": {
  "kernelspec": {
   "display_name": "mi_entorno_virtual",
   "language": "python",
   "name": "python3"
  },
  "language_info": {
   "codemirror_mode": {
    "name": "ipython",
    "version": 3
   },
   "file_extension": ".py",
   "mimetype": "text/x-python",
   "name": "python",
   "nbconvert_exporter": "python",
   "pygments_lexer": "ipython3",
   "version": "3.10.12"
  }
 },
 "nbformat": 4,
 "nbformat_minor": 2
}
